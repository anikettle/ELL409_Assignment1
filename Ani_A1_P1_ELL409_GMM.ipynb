{
 "metadata": {
  "language_info": {
   "codemirror_mode": {
    "name": "ipython",
    "version": 3
   },
   "file_extension": ".py",
   "mimetype": "text/x-python",
   "name": "python",
   "nbconvert_exporter": "python",
   "pygments_lexer": "ipython3",
   "version": "3.7.6-final"
  },
  "orig_nbformat": 2,
  "kernelspec": {
   "name": "python3",
   "display_name": "Python 3",
   "language": "python"
  }
 },
 "nbformat": 4,
 "nbformat_minor": 2,
 "cells": [
  {
   "cell_type": "code",
   "execution_count": 2,
   "metadata": {},
   "outputs": [],
   "source": [
    "import numpy as np\n",
    "import pandas as pd\n",
    "import matplotlib as plt\n",
    "import math\n",
    "import re\n",
    "import os"
   ]
  },
  {
   "cell_type": "code",
   "execution_count": 3,
   "metadata": {},
   "outputs": [],
   "source": [
    "def import_dataset(split_percent = 70):\n",
    "    pwd = os.getcwd()+'\\\\health_data.csv'\n",
    "    dataset = pd.read_csv(pwd)    \n",
    "    dataset = dataset.sample(frac = 1)\n",
    "    X = dataset.iloc[:,:-1].values\n",
    "    y = dataset.iloc[:,-1:].values\n",
    "    datasize = X.shape[0]\n",
    "\n",
    "    split_point = split_percent//10\n",
    "\n",
    "    X_train = X[:(datasize*split_point)//10,:]\n",
    "    y_train = y[:(datasize*split_point)//10,:]\n",
    "    X_test = X[(datasize*split_point)//10:,:]\n",
    "    y_test = y[(datasize*split_point)//10:,:]\n",
    "\n",
    "    return(X_train,X_test,y_train,y_test)\n"
   ]
  },
  {
   "cell_type": "code",
   "execution_count": 31,
   "metadata": {},
   "outputs": [],
   "source": [
    "def feature_scaling(X_train,X_test):\n",
    "    X_mean = np.sum(X_train,axis=0)\n",
    "    X_var = np.sqrt(np.sum(np.square(X_train - X_mean), axis=0))\n",
    "\n",
    "    X_train_feat_scaled = (X_train - X_mean ) / X_var\n",
    "    X_test_feat_scaled = (X_test - X_mean) / X_var\n",
    "\n",
    "    return (X_mean,X_var, X_train_feat_scaled,X_test_feat_scaled)"
   ]
  },
  {
   "cell_type": "code",
   "execution_count": 32,
   "metadata": {},
   "outputs": [],
   "source": [
    "def sep_01(X_train,y_train):\n",
    "    x_0_train = X_train[y_train[:,0]==0]\n",
    "    x_1_train = X_train[y_train[:,0]==1]\n",
    "    return(x_0_train,x_1_train)"
   ]
  },
  {
   "cell_type": "code",
   "execution_count": 33,
   "metadata": {},
   "outputs": [],
   "source": [
    "def random_generate_models(X_train_avg,num_feat,modes_1=3,modes_0=3):\n",
    "    para_0 = []\n",
    "    para_1 = []\n",
    "    for i in range(modes_1):\n",
    "        m = np.random.rand(1,num_feat) + X_train_avg.reshape(1,-1)\n",
    "        v = np.random.rand(num_feat,num_feat) / 100\n",
    "        para_1.append((1/modes_1,m,v))           # 1: prior 2: mean 3: covariance\n",
    "    for i in range(modes_0):\n",
    "        m = np.random.rand(1,num_feat) + X_train_avg.reshape(1,-1)\n",
    "        v = np.random.rand(num_feat,num_feat) / 100\n",
    "        para_0.append((1/modes_0,m,v))          # 1: prior 2: mean 3: covariance\n",
    "    return(modes_1,modes_0,para_1,para_0)\n",
    "# print(random_generate_models()"
   ]
  },
  {
   "cell_type": "code",
   "execution_count": 34,
   "metadata": {
    "tags": []
   },
   "outputs": [],
   "source": [
    "def calc_prob(X,meu,cov):\n",
    "    num_of_feat = cov.shape[0]\n",
    "    det = np.abs(np.linalg.det(cov))\n",
    "    p0 = 1/math.pow((2*math.pi),num_of_feat/2)\n",
    "    p0 = p0 / (det**0.5)\n",
    "    # print('p0: ',p0)\n",
    "    # p = np.exp(-0.5 * (np.dot(X-meu,np.linalg.inv(cov)))*(X-meu))\n",
    "    p = np.exp(-0.5 * np.sum(np.multiply(np.dot(X-meu,np.linalg.inv(cov)) , (X-meu)),axis=1).reshape(-1,1))\n",
    "    # print(p)\n",
    "    return (p0*p)\n",
    "# run_model(1,1)\n"
   ]
  },
  {
   "cell_type": "code",
   "execution_count": 35,
   "metadata": {},
   "outputs": [],
   "source": [
    "def ret_alpha_mean_var(modes,prob,X_train):\n",
    "    num_elements = X_train.shape[0]\n",
    "    num_in_class_i = {}\n",
    "    all_probs = prob[0]\n",
    "    updated_params = []\n",
    "\n",
    "    # print(prob[0].shape)\n",
    "\n",
    "    for i in range(1,modes):\n",
    "        all_probs = np.append(all_probs,prob[i],axis=1)\n",
    "    mode_distribute = np.argmax(all_probs,axis=1)\n",
    "    for i in range(modes):\n",
    "        class_i = np.zeros((num_elements))\n",
    "        class_i[[mode_distribute==i]] = 1\n",
    "        num_in_class_i[i] = np.sum(class_i,axis=0)\n",
    "\n",
    "        # print('herenow',prob[i].shape)\n",
    "\n",
    "        u_m = np.dot(np.transpose(prob[i]),X_train) / np.sum(prob[i],axis=0)\n",
    "        dif = X_train - u_m\n",
    "        u_c = np.dot(np.transpose(dif),dif) / num_elements\n",
    "\n",
    "        updated_params.append( (num_in_class_i[i]/num_elements , u_m , u_c) )\n",
    "    \n",
    "    return ( updated_params )\n"
   ]
  },
  {
   "cell_type": "code",
   "execution_count": 36,
   "metadata": {},
   "outputs": [],
   "source": [
    "def one_step_optimize(X_train,modes,params):\n",
    "    num_points = X_train.shape[0]\n",
    "    alpha = {}\n",
    "    meu = {}\n",
    "    covar = {}\n",
    "    prob = {}\n",
    "    sum_mat = np.zeros((params[0][1].shape[0],1))\n",
    "\n",
    "    for i in range(modes):\n",
    "        alpha[i],meu[i],covar[i] = params[i]\n",
    "        prob[i] = calc_prob(X_train,meu[i],covar[i])\n",
    "        # if(i==0):\n",
    "        #     print(prob[i])\n",
    "        # print('checkk',prob[i].shape)\n",
    "        prob[i] = prob[i] * (3 + alpha[i])\n",
    "        #EDIT\n",
    "        sum_mat = sum_mat + prob[i]\n",
    "    for i in range(modes):\n",
    "        prob[i] = prob[i] / (sum_mat + (3*modes))\n",
    "    \n",
    "    updated_params = ret_alpha_mean_var(modes,prob,X_train)\n",
    "\n",
    "    return(updated_params)\n",
    "\n",
    "\n"
   ]
  },
  {
   "cell_type": "code",
   "execution_count": 37,
   "metadata": {},
   "outputs": [],
   "source": [
    "def optimize_the_params(X_train,modes,params,iter=100):\n",
    "    updated_params = params\n",
    "    for iterator in range(iter):\n",
    "        updated_params = one_step_optimize(X_train,modes,updated_params)\n",
    "    \n",
    "    return (updated_params)"
   ]
  },
  {
   "cell_type": "code",
   "execution_count": 38,
   "metadata": {},
   "outputs": [],
   "source": [
    "def GMM_training(X_train, y_train, modes_1 = 1, modes_0 = 1):\n",
    "    X_0_train,X_1_train = sep_01(X_train,y_train)\n",
    "    num_feat = X_train.shape[1]\n",
    "    X_train_avg = np.sum(X_train,axis=0).reshape(1,-1) / X_train.shape[0]\n",
    "    modes_1,modes_0,para_1,para_0 = random_generate_models(X_train_avg,num_feat,modes_1,modes_0)\n",
    "    # print('init generated 1: ',para_1)\n",
    "    # print('init generated 0: ',para_0)\n",
    "    opt_para_0 = optimize_the_params(X_0_train,modes_0,para_0)\n",
    "    opt_para_1 = optimize_the_params(X_1_train,modes_1,para_1)\n",
    "\n",
    "    prior = [np.sum(y_train),0]\n",
    "    prior[1] = y_train.shape[0]-prior[0]\n",
    "\n",
    "    return(opt_para_0,opt_para_1,prior)\n",
    "    "
   ]
  },
  {
   "cell_type": "code",
   "execution_count": 39,
   "metadata": {},
   "outputs": [],
   "source": [
    "def GMM_testing(X_test,y_test, prior, opt_para_0, opt_para_1, modes_1 = 1, modes_0 = 1):\n",
    "    test_size = X_test.shape[0]\n",
    "    prob_0, prob_1 = np.zeros((test_size,1)) , np.zeros((test_size,1))\n",
    "    for i in range(modes_1):\n",
    "        alpha,meu,cov = opt_para_1[i]\n",
    "        prob = alpha*calc_prob(X_test,meu,cov)\n",
    "        prob_1 += prob\n",
    "    for i in range(modes_0):\n",
    "        alpha,meu,cov = opt_para_0[i]\n",
    "        prob = alpha*calc_prob(X_test,meu,cov)\n",
    "        prob_0 += prob\n",
    "    all_probs = prob_0\n",
    "    all_probs = np.append(all_probs,prob_1,axis=1)\n",
    "    all_probs[:,0] = all_probs[:,0] * prior[1]\n",
    "    all_probs[:,1] = all_probs[:,1] * prior[0]\n",
    "    ##########################################################################\n",
    "    ############ SEE IF YOU WANT TO DELETE THE ABOVE 2 LINES #################\n",
    "    ##########################################################################\n",
    "    y_pred = np.argmax(all_probs,axis=1)\n",
    "\n",
    "    return (y_pred.reshape(-1,1))\n",
    "    \n",
    "    "
   ]
  },
  {
   "cell_type": "code",
   "execution_count": 40,
   "metadata": {},
   "outputs": [],
   "source": [
    "def accuracy_metrics(y_pred_thresh, y_test):\n",
    "\n",
    "    # print(y_pred_thresh.shape,y_test.shape)\n",
    "\n",
    "    test_size = y_test.shape[0]\n",
    "\n",
    "    tp = np.sum((y_pred_thresh+y_test)==2 , axis=0)[0]\n",
    "    tn = np.sum(y_pred_thresh==y_test , axis=0)[0] - tp\n",
    "    fp = np.sum(y_pred_thresh , axis=0)[0]-tp\n",
    "    fn = test_size-tp-tn-fp\n",
    "\n",
    "\n",
    "    print('tp: {} , tn: {} , fp: {} , fn: {}'.format(tp,tn,fp,fn))\n",
    "\n",
    "    acc = (tp+tn)/test_size\n",
    "    prec = (tp)/(tp+fp)\n",
    "    recl = (tp)/(tp+fn)\n",
    "    f1 = 2*prec*recl/(prec+recl)\n",
    "    print('total number of y=1 in test: ', np.sum(y_test))\n",
    "    print('Accuracy: {}'.format( acc  ))\n",
    "    print('Precision: {}'.format( prec  ))\n",
    "    print('Recall: {}'.format( recl  ))\n",
    "    print('F1 score: {}'.format( f1  ))\n",
    "    return f1"
   ]
  },
  {
   "cell_type": "code",
   "execution_count": 51,
   "metadata": {},
   "outputs": [],
   "source": [
    "def run_model(modes_0=1,modes_1=1):\n",
    "    X_train,X_test,y_train,y_test = import_dataset()\n",
    "    # print(np.sum(y_train)+np.sum(y_test))\n",
    "    X_mean,X_var, X_train_feat_scaled,X_test_feat_scaled = feature_scaling(X_train,X_test)\n",
    "    opt_para_0,opt_para_1,prior = GMM_training(X_train_feat_scaled, y_train, modes_1, modes_0)\n",
    "    # print('opt_para_0: ', opt_para_0)\n",
    "    # print('opt_para_1: ', opt_para_1)\n",
    "    # opt_para_0 =[(1.0, np.array([[ 31.36872631, 113.26210433, 230.2234253 ]]), np.array([[ 85.29047877,  93.62669958, -12.91715177],\n",
    "    #    [ 93.62669958, 169.03096647, -11.18666143],\n",
    "    #    [-12.91715177, -11.18666143, 976.00337193]]))]\n",
    "    # opt_para_1 =  [(1.0, np.array([[ 54.98721629, 141.71574088, 292.22935313]]), np.array([[  91.83235288,   34.83131231, 441.01092185],\n",
    "    #    [  34.83131231,  131.8626332 ,  230.38970845],\n",
    "    #    [ 441.01092185,  230.38970845, 3637.23236746]]))]\n",
    "    y_pred = GMM_testing(X_test_feat_scaled,y_test, prior, opt_para_0, opt_para_1, modes_1, modes_0)\n",
    "    f1 = accuracy_metrics(y_pred, y_test)\n",
    "    return f1"
   ]
  },
  {
   "cell_type": "code",
   "execution_count": 56,
   "metadata": {
    "tags": []
   },
   "outputs": [
    {
     "output_type": "stream",
     "name": "stdout",
     "text": [
      "tp: 72 , tn: 106 , fp: 15 , fn: 17\n",
      "total number of y=1 in test:  89\n",
      "Accuracy: 0.8476190476190476\n",
      "Precision: 0.8275862068965517\n",
      "Recall: 0.8089887640449438\n",
      "F1 score: 0.8181818181818181\n",
      "0.8181818181818181\n",
      "tp: 61 , tn: 124 , fp: 12 , fn: 13\n",
      "total number of y=1 in test:  74\n",
      "Accuracy: 0.8809523809523809\n",
      "Precision: 0.8356164383561644\n",
      "Recall: 0.8243243243243243\n",
      "F1 score: 0.8299319727891157\n",
      "0.8299319727891157\n",
      "tp: 81 , tn: 101 , fp: 14 , fn: 14\n",
      "total number of y=1 in test:  95\n",
      "Accuracy: 0.8666666666666667\n",
      "Precision: 0.8526315789473684\n",
      "Recall: 0.8526315789473684\n",
      "F1 score: 0.8526315789473685\n",
      "0.8526315789473685\n",
      "tp: 80 , tn: 101 , fp: 12 , fn: 17\n",
      "total number of y=1 in test:  97\n",
      "Accuracy: 0.861904761904762\n",
      "Precision: 0.8695652173913043\n",
      "Recall: 0.8247422680412371\n",
      "F1 score: 0.8465608465608465\n",
      "0.8465608465608465\n",
      "tp: 78 , tn: 101 , fp: 16 , fn: 15\n",
      "total number of y=1 in test:  93\n",
      "Accuracy: 0.8523809523809524\n",
      "Precision: 0.8297872340425532\n",
      "Recall: 0.8387096774193549\n",
      "F1 score: 0.8342245989304814\n",
      "0.8342245989304814\n",
      "tp: 72 , tn: 110 , fp: 16 , fn: 12\n",
      "total number of y=1 in test:  84\n",
      "Accuracy: 0.8666666666666667\n",
      "Precision: 0.8181818181818182\n",
      "Recall: 0.8571428571428571\n",
      "F1 score: 0.8372093023255814\n",
      "0.8372093023255814\n",
      "tp: 80 , tn: 105 , fp: 12 , fn: 13\n",
      "total number of y=1 in test:  93\n",
      "Accuracy: 0.8809523809523809\n",
      "Precision: 0.8695652173913043\n",
      "Recall: 0.8602150537634409\n",
      "F1 score: 0.8648648648648649\n",
      "0.8648648648648649\n",
      "tp: 72 , tn: 108 , fp: 13 , fn: 17\n",
      "total number of y=1 in test:  89\n",
      "Accuracy: 0.8571428571428571\n",
      "Precision: 0.8470588235294118\n",
      "Recall: 0.8089887640449438\n",
      "F1 score: 0.8275862068965517\n",
      "0.8275862068965517\n",
      "tp: 78 , tn: 105 , fp: 11 , fn: 16\n",
      "total number of y=1 in test:  94\n",
      "Accuracy: 0.8714285714285714\n",
      "Precision: 0.8764044943820225\n",
      "Recall: 0.8297872340425532\n",
      "F1 score: 0.8524590163934426\n",
      "0.8524590163934426\n",
      "tp: 74 , tn: 99 , fp: 20 , fn: 17\n",
      "total number of y=1 in test:  91\n",
      "Accuracy: 0.8238095238095238\n",
      "Precision: 0.7872340425531915\n",
      "Recall: 0.8131868131868132\n",
      "F1 score: 0.7999999999999999\n",
      "0.7999999999999999\n",
      "tp: 70 , tn: 100 , fp: 22 , fn: 18\n",
      "total number of y=1 in test:  88\n",
      "Accuracy: 0.8095238095238095\n",
      "Precision: 0.7608695652173914\n",
      "Recall: 0.7954545454545454\n",
      "F1 score: 0.7777777777777778\n",
      "0.7777777777777778\n",
      "tp: 82 , tn: 103 , fp: 13 , fn: 12\n",
      "total number of y=1 in test:  94\n",
      "Accuracy: 0.8809523809523809\n",
      "Precision: 0.8631578947368421\n",
      "Recall: 0.8723404255319149\n",
      "F1 score: 0.8677248677248677\n",
      "0.8677248677248677\n",
      "tp: 79 , tn: 97 , fp: 23 , fn: 11\n",
      "total number of y=1 in test:  90\n",
      "Accuracy: 0.8380952380952381\n",
      "Precision: 0.7745098039215687\n",
      "Recall: 0.8777777777777778\n",
      "F1 score: 0.8229166666666667\n",
      "0.8229166666666667\n",
      "tp: 84 , tn: 98 , fp: 14 , fn: 14\n",
      "total number of y=1 in test:  98\n",
      "Accuracy: 0.8666666666666667\n",
      "Precision: 0.8571428571428571\n",
      "Recall: 0.8571428571428571\n",
      "F1 score: 0.8571428571428571\n",
      "0.8571428571428571\n",
      "tp: 70 , tn: 109 , fp: 15 , fn: 16\n",
      "total number of y=1 in test:  86\n",
      "Accuracy: 0.8523809523809524\n",
      "Precision: 0.8235294117647058\n",
      "Recall: 0.813953488372093\n",
      "F1 score: 0.8187134502923977\n",
      "0.8187134502923977\n",
      "tp: 91 , tn: 0 , fp: 119 , fn: 0\n",
      "total number of y=1 in test:  91\n",
      "Accuracy: 0.43333333333333335\n",
      "Precision: 0.43333333333333335\n",
      "Recall: 1.0\n",
      "F1 score: 0.6046511627906976\n",
      "0.6046511627906976\n"
     ]
    }
   ],
   "source": [
    "f = np.zeros((4,4))\n",
    "for i in range(1,5):\n",
    "    for j in range(1,5):\n",
    "        f1 = run_model(i,j)\n",
    "        print(f1)\n",
    "        f[i-1,j-1] = f1"
   ]
  },
  {
   "cell_type": "code",
   "execution_count": 57,
   "metadata": {},
   "outputs": [
    {
     "output_type": "stream",
     "name": "stdout",
     "text": [
      "[[0.81818182 0.82993197 0.85263158 0.84656085]\n [0.8342246  0.8372093  0.86486486 0.82758621]\n [0.85245902 0.8        0.77777778 0.86772487]\n [0.82291667 0.85714286 0.81871345 0.60465116]]\n"
     ]
    }
   ],
   "source": [
    "print(f)"
   ]
  },
  {
   "cell_type": "code",
   "execution_count": null,
   "metadata": {},
   "outputs": [],
   "source": []
  },
  {
   "cell_type": "code",
   "execution_count": null,
   "metadata": {},
   "outputs": [],
   "source": []
  },
  {
   "cell_type": "code",
   "execution_count": null,
   "metadata": {},
   "outputs": [],
   "source": []
  },
  {
   "cell_type": "code",
   "execution_count": null,
   "metadata": {},
   "outputs": [],
   "source": []
  },
  {
   "cell_type": "code",
   "execution_count": null,
   "metadata": {},
   "outputs": [],
   "source": []
  },
  {
   "cell_type": "code",
   "execution_count": null,
   "metadata": {},
   "outputs": [],
   "source": []
  },
  {
   "cell_type": "code",
   "execution_count": null,
   "metadata": {},
   "outputs": [],
   "source": []
  },
  {
   "cell_type": "code",
   "execution_count": null,
   "metadata": {},
   "outputs": [],
   "source": []
  },
  {
   "cell_type": "code",
   "execution_count": null,
   "metadata": {},
   "outputs": [],
   "source": []
  },
  {
   "cell_type": "code",
   "execution_count": null,
   "metadata": {},
   "outputs": [],
   "source": []
  },
  {
   "cell_type": "code",
   "execution_count": null,
   "metadata": {},
   "outputs": [],
   "source": []
  },
  {
   "cell_type": "code",
   "execution_count": null,
   "metadata": {},
   "outputs": [],
   "source": []
  },
  {
   "cell_type": "code",
   "execution_count": null,
   "metadata": {},
   "outputs": [],
   "source": []
  }
 ]
}