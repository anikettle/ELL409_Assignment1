{
 "metadata": {
  "language_info": {
   "codemirror_mode": {
    "name": "ipython",
    "version": 3
   },
   "file_extension": ".py",
   "mimetype": "text/x-python",
   "name": "python",
   "nbconvert_exporter": "python",
   "pygments_lexer": "ipython3",
   "version": "3.7.6-final"
  },
  "orig_nbformat": 2,
  "kernelspec": {
   "name": "python3",
   "display_name": "Python 3"
  }
 },
 "nbformat": 4,
 "nbformat_minor": 2,
 "cells": [
  {
   "cell_type": "code",
   "execution_count": 92,
   "metadata": {},
   "outputs": [],
   "source": [
    "import numpy as np\n",
    "import pandas as pd\n",
    "import matplotlib as plt\n",
    "import math"
   ]
  },
  {
   "cell_type": "code",
   "execution_count": 93,
   "metadata": {},
   "outputs": [],
   "source": [
    "dataset = pd.read_csv('E:\\ELL_project\\problem1\\health_data.csv')\n",
    "dataset = dataset.sample(frac=1)\n",
    "X = dataset.iloc[:,:-1].values\n",
    "y = dataset.iloc[:,-1:].values\n",
    "datasize = X.shape[0]\n",
    "X_train = X[:(datasize*7)//10,:]\n",
    "y_train = y[:(datasize*7)//10,:]\n",
    "X_test = X[(datasize*7)//10:,:]\n",
    "y_test = y[(datasize*7)//10:,:]\n"
   ]
  },
  {
   "cell_type": "code",
   "execution_count": 94,
   "metadata": {},
   "outputs": [],
   "source": [
    "def feature_scaling(X_train,y_train):\n",
    "    training_size = X_train.shape[0]\n",
    "    X_mean = np.sum(X_train,axis=0) / training_size\n",
    "    X_var = np.sqrt(np.sum((np.square(X-X_mean)),axis=0)/training_size)\n",
    "    X_train_reg = (X_train - X_mean) / X_var\n",
    "    # y_mean = np.sum(y_train,axis=0) / training_size\n",
    "    # y_var = np.sqrt(np.sum((np.square(y-y_mean)),axis=0)/training_size)\n",
    "    # y_train_reg = (y_train - y_mean) / y_var\n",
    "\n",
    "    # return (X_mean,X_var,X_train_reg,y_mean,y_var,y_train_reg)\n",
    "    return (X_mean,X_var,X_train_reg)\n"
   ]
  },
  {
   "cell_type": "code",
   "execution_count": 103,
   "metadata": {},
   "outputs": [],
   "source": [
    "def parsen_window(X_train,y_train,X_test,y_test,window_size):\n",
    "\n",
    "    test_size = X_test.shape[0]\n",
    "    train_size = X_train.shape[0]\n",
    "    # X_m,X_v,X_r,y_m,y_v,y_r = feature_scaling(X_train,y_train)\n",
    "    X_m,X_v,X_r = feature_scaling(X_train,y_train)\n",
    "    X_test_reg = (X_test-X_m)/X_v\n",
    "    # y_test_reg = (y_test-y_m)/y_v\n",
    "    y_pred = np.array([])\n",
    "    # print(y_pred)\n",
    "    for i in range(test_size):\n",
    "        sample_X = X_test_reg[i:i+1,:]\n",
    "        sample_y = y_test[i,:]\n",
    "        dist_vec = np.sqrt(np.sum(np.square(X_r-sample_X),axis=1))\n",
    "        dist_vec = dist_vec.reshape((train_size,1))\n",
    "        # print(dist_vec.shape)\n",
    "        # print(y_train.shape)\n",
    "        hyp_cube = y_train[dist_vec[:,0]<=window_size,0]\n",
    "        num1 = np.sum(hyp_cube,axis=0)\n",
    "        num0 = hyp_cube.shape[0] - num1\n",
    "        y_pred = np.append(y_pred,[int(num1>=num0)])\n",
    "        # print(y_pred)\n",
    "        # if(y_pred==0):\n",
    "        #     print('yes')\n",
    "        # break\n",
    "    return y_pred\n",
    "        \n",
    "\n"
   ]
  },
  {
   "cell_type": "code",
   "execution_count": 116,
   "metadata": {
    "tags": []
   },
   "outputs": [],
   "source": [
    "def accuracy(y_pred,y_test):\n",
    "\n",
    "    test_size = y_test.shape[0]\n",
    "\n",
    "    y_pred = y_pred.reshape((y_pred.shape[0],1))\n",
    "\n",
    "    print(y_test.shape)\n",
    "    print(y_pred.shape)\n",
    "\n",
    "    tp = np.sum((y_pred+y_test)==2 , axis=0)[0]\n",
    "    tn = np.sum(y_pred==y_test , axis=0)[0] - tp\n",
    "    fp = np.sum(y_pred , axis=0)[0]-tp\n",
    "    fn = test_size-tp-tn-fp\n",
    "\n",
    "\n",
    "    print('tp: {} , tn: {} , fp: {} , fn: {}'.format(tp,tn,fp,fn))\n",
    "\n",
    "    acc = (tp+tn)/test_size\n",
    "    prec = (tp)/(tp+fp)\n",
    "    recl = (tp)/(tp+fn)\n",
    "    f1 = 2*prec*recl/(prec+recl)\n",
    "\n",
    "    print('Accuracy: {}'.format( acc  ))\n",
    "    print('Precision: {}'.format( prec  ))\n",
    "    print('Recall: {}'.format( recl  ))\n",
    "    print('F1 score: {}'.format( f1  ))"
   ]
  },
  {
   "cell_type": "code",
   "execution_count": 126,
   "metadata": {},
   "outputs": [
    {
     "output_type": "stream",
     "name": "stdout",
     "text": [
      "(210, 1)\n(210, 1)\ntp: 84 , tn: 101 , fp: 15.0 , fn: 10.0\nAccuracy: 0.8809523809523809\nPrecision: 0.8484848484848485\nRecall: 0.8936170212765957\nF1 score: 0.8704663212435233\n"
     ]
    }
   ],
   "source": [
    "y_pred = parsen_window(X_train,y_train,X_test,y_test,0.6)\n",
    "accuracy(y_pred,y_test)"
   ]
  }
 ]
}