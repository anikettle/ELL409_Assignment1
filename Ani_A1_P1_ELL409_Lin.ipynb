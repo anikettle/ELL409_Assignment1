{
  "nbformat": 4,
  "nbformat_minor": 0,
  "metadata": {
    "colab": {
      "name": "Ani_A1_P1_ELL409_Lin.ipynb",
      "provenance": [],
      "collapsed_sections": []
    },
    "kernelspec": {
      "name": "python3",
      "display_name": "Python 3"
    }
  },
  "cells": [
    {
      "cell_type": "code",
      "metadata": {
        "id": "hPZozwobkXw5"
      },
      "source": [
        "import pandas as pd\n",
        "import matplotlib.pyplot as plt\n",
        "import numpy as np"
      ],
      "execution_count": null,
      "outputs": []
    },
    {
      "cell_type": "code",
      "metadata": {
        "id": "T6HP6dinkbGy"
      },
      "source": [
        "dataset = pd.read_csv('E:\\ELL_project\\problem1\\health_data.csv')\n",
        "dataset = dataset.sample(frac = 1)\n",
        "X = dataset.iloc[:,:-1].values\n",
        "y = dataset.iloc[:,-1:].values\n",
        "datasize = X.shape[0]\n",
        "X_train = X[:(datasize*7)//10,:]\n",
        "y_train = y[:(datasize*7)//10,:]\n",
        "X_test = X[(datasize*7)//10:,:]\n",
        "y_test = y[(datasize*7)//10:,:]"
      ],
      "execution_count": null,
      "outputs": []
    },
    {
      "cell_type": "code",
      "metadata": {
        "id": "rzIp7YTSnDsD"
      },
      "source": [
        "def gradDesc(X,y,theta):\n",
        "    h  = np.dot(X,theta)\n",
        "    dsc = X.shape[0]\n",
        "    loss = h-y\n",
        "    total_loss = np.dot(np.ones((1,dsc)),np.square(loss))[0,0] /dsc\n",
        "    update = np.dot(np.transpose(X),loss)\n",
        "    update /= dsc\n",
        "    return(total_loss,update)"
      ],
      "execution_count": null,
      "outputs": []
    },
    {
      "cell_type": "code",
      "metadata": {
        "id": "TV5jirTckbxC"
      },
      "source": [
        "def linReg(X,y,iter=100,alpha=0.01,batchSize=32):\n",
        "    theta = np.random.random((X.shape[1],1))\n",
        "    # print(theta)\n",
        "    datasize = X.shape[0]\n",
        "    loss_epoch = 0\n",
        "    for i in range(iter):\n",
        "        if((i+1)%1000==0 and i>0):\n",
        "            print('Loss for {} iterations: {}'.format(i+1,loss_epoch))\n",
        "        fro = 0\n",
        "        loss_epoch = 0\n",
        "        while(True):\n",
        "            to = min(fro+batchSize,datasize)\n",
        "            l,theta_grad = gradDesc(X[fro:to,:],y[fro:to,:],theta)\n",
        "            # print(theta_grad)\n",
        "            loss_epoch += l\n",
        "            theta -= (alpha*theta_grad)\n",
        "            fro = to\n",
        "\n",
        "            if(to>=datasize):\n",
        "                break\n",
        "    \n",
        "    return (theta,loss_epoch)\n"
      ],
      "execution_count": null,
      "outputs": []
    },
    {
      "cell_type": "code",
      "metadata": {
        "colab": {
          "base_uri": "https://localhost:8080/"
        },
        "id": "qm8k4nHDlNIj",
        "outputId": "a1327632-f176-436b-a9d4-b004c526f381"
      },
      "source": [
        "train_datasize = X_train.shape[0]\n",
        "opt_theta, train_loss = linReg(X_train,y_train,20000,0.00001,train_datasize)\n",
        "print(opt_theta)"
      ],
      "execution_count": null,
      "outputs": [
        {
          "output_type": "stream",
          "text": [
            "Loss for 1000 iterations: 1.4748575204208234\n",
            "Loss for 2000 iterations: 0.3437451824575775\n",
            "Loss for 3000 iterations: 0.1531795260161867\n",
            "Loss for 4000 iterations: 0.12105176629054017\n",
            "Loss for 5000 iterations: 0.11563529545160073\n",
            "Loss for 6000 iterations: 0.11472212389512414\n",
            "Loss for 7000 iterations: 0.11456817082930808\n",
            "Loss for 8000 iterations: 0.11454221563358824\n",
            "Loss for 9000 iterations: 0.11453783980527144\n",
            "Loss for 10000 iterations: 0.1145371020773165\n",
            "Loss for 11000 iterations: 0.1145369777025705\n",
            "Loss for 12000 iterations: 0.11453695673403141\n",
            "Loss for 13000 iterations: 0.11453695319891156\n",
            "Loss for 14000 iterations: 0.11453695260292002\n",
            "Loss for 15000 iterations: 0.11453695250244086\n",
            "Loss for 16000 iterations: 0.1145369524855009\n",
            "Loss for 17000 iterations: 0.11453695248264498\n",
            "Loss for 18000 iterations: 0.1145369524821635\n",
            "Loss for 19000 iterations: 0.11453695248208234\n",
            "Loss for 20000 iterations: 0.11453695248206865\n",
            "[[ 0.03024733]\n",
            " [-0.0049852 ]\n",
            " [-0.00071973]]\n"
          ],
          "name": "stdout"
        }
      ]
    },
    {
      "cell_type": "code",
      "metadata": {
        "colab": {
          "base_uri": "https://localhost:8080/"
        },
        "id": "UfR0iO_y78aw",
        "outputId": "c9482015-ded4-42dc-88b7-b1c6cfdd4d2e"
      },
      "source": [
        "y_pred = np.dot(X_test,opt_theta)\n",
        "loss_y = y_pred - y_test\n",
        "\n",
        "test_size = y_pred.shape[0]\n",
        "total_loss_y = np.dot(np.ones((1,test_size)),np.square(loss_y))[0,0] / test_size\n",
        "\n",
        "# print(total_loss_y)\n",
        "\n",
        "y_pred_thresh = y_pred>=0.5\n",
        "\n",
        "tp = np.sum((y_pred_thresh+y_test)==2 , axis=0)[0]\n",
        "tn = np.sum(y_pred_thresh==y_test , axis=0)[0] - tp\n",
        "fp = np.sum(y_pred_thresh , axis=0)[0]-tp\n",
        "fn = test_size-tp-tn-fp\n",
        "\n",
        "\n",
        "print('tp: {} , tn: {} , fp: {} , fn: {}'.format(tp,tn,fp,fn))\n",
        "\n",
        "acc = (tp+tn)/test_size\n",
        "prec = (tp)/(tp+fp)\n",
        "recl = (tp)/(tp+fn)\n",
        "f1 = 2*prec*recl/(prec+recl)\n",
        "\n",
        "print('Accuracy: {}'.format( acc  ))\n",
        "print('Precision: {}'.format( prec  ))\n",
        "print('Recall: {}'.format( recl  ))\n",
        "print('F1 score: {}'.format( f1  ))\n",
        "\n",
        "\n"
      ],
      "execution_count": null,
      "outputs": [
        {
          "output_type": "stream",
          "text": [
            "tp: 77 , tn: 98 , fp: 20 , fn: 15\n",
            "Accuracy: 0.8333333333333334\n",
            "Precision: 0.7938144329896907\n",
            "Recall: 0.8369565217391305\n",
            "F1 score: 0.8148148148148148\n"
          ],
          "name": "stdout"
        }
      ]
    },
    {
      "cell_type": "code",
      "metadata": {
        "id": "0ronMH15GLU4"
      },
      "source": [
        ""
      ],
      "execution_count": null,
      "outputs": []
    }
  ]
}