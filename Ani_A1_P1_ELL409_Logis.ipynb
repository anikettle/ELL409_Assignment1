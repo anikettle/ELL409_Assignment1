{
  "nbformat": 4,
  "nbformat_minor": 0,
  "metadata": {
    "colab": {
      "name": "Ani_A1_P1_ELL409_Lin.ipynb",
      "provenance": [],
      "collapsed_sections": []
    },
    "kernelspec": {
      "name": "python3",
      "display_name": "Python 3"
    }
  },
  "cells": [
    {
      "cell_type": "code",
      "metadata": {
        "id": "XxEoxCmkj2_n"
      },
      "source": [
        "import pandas as pd\n",
        "import matplotlib.pyplot as plt\n",
        "import numpy as np\n",
        "import math"
      ],
      "execution_count": null,
      "outputs": []
    },
    {
      "cell_type": "code",
      "metadata": {
        "id": "o38f5eQCwZZ0"
      },
      "source": [
        "dataset = pd.read_csv('health_data.csv')\n",
        "dataset = dataset.sample(frac = 1)\n",
        "X = dataset.iloc[:,:-1].values\n",
        "y = dataset.iloc[:,-1:].values\n",
        "datasize = X.shape[0]\n",
        "X_train = X[:(datasize*7)//10,:]\n",
        "y_train = y[:(datasize*7)//10,:]\n",
        "X_test = X[(datasize*7)//10:,:]\n",
        "y_test = y[(datasize*7)//10:,:]"
      ],
      "execution_count": null,
      "outputs": []
    },
    {
      "cell_type": "code",
      "metadata": {
        "id": "DKVkjhy7x5L-"
      },
      "source": [
        "def sigmoid(X):\n",
        "    ret = 1/(1+np.exp(-X))\n",
        "    return ret"
      ],
      "execution_count": null,
      "outputs": []
    },
    {
      "cell_type": "code",
      "metadata": {
        "id": "PVnmeL0uwa96"
      },
      "source": [
        "def gradDesc(X,y,theta):\n",
        "    h  = np.dot(X,theta)\n",
        "    hyp = sigmoid(h)\n",
        "    dsc = X.shape[0]\n",
        "    loss = hyp-y\n",
        "    total_loss = np.sum(np.square(loss),axis=0)[0] /dsc\n",
        "    update = np.dot(np.transpose(X),loss)\n",
        "    update /= dsc\n",
        "    return(total_loss,update)"
      ],
      "execution_count": null,
      "outputs": []
    },
    {
      "cell_type": "code",
      "metadata": {
        "id": "hV3ittIgxs8-"
      },
      "source": [
        "def logisReg(X,y,iter=100,alpha=0.01,batchSize=32):\n",
        "    theta = np.random.random((X.shape[1],1))\n",
        "    # print(theta)\n",
        "    datasize = X.shape[0]\n",
        "    loss_epoch = 0\n",
        "    for i in range(iter):\n",
        "        if((i+1)%1000==0 and i>0):\n",
        "            print('Loss for {} iterations: {}'.format(i+1,loss_epoch))\n",
        "        fro = 0\n",
        "        loss_epoch = 0\n",
        "        while(True):\n",
        "            to = min(fro+batchSize,datasize)\n",
        "            l,theta_grad = gradDesc(X[fro:to,:],y[fro:to,:],theta)\n",
        "            # print(theta_grad)\n",
        "            loss_epoch += l\n",
        "            theta -= (alpha*theta_grad)\n",
        "            fro = to\n",
        "\n",
        "            if(to>=datasize):\n",
        "                break\n",
        "    \n",
        "    return (theta,loss_epoch)\n"
      ],
      "execution_count": null,
      "outputs": []
    },
    {
      "cell_type": "code",
      "metadata": {
        "colab": {
          "base_uri": "https://localhost:8080/"
        },
        "id": "bCI0yp8Vy0B2",
        "outputId": "ac214b82-01e2-4468-c3a7-8a7bdd465e49"
      },
      "source": [
        "train_datasize = X_train.shape[0]\n",
        "opt_theta, train_loss = logisReg(X_train,y_train,10000,0.0001,train_datasize)\n",
        "print(opt_theta)"
      ],
      "execution_count": null,
      "outputs": [
        {
          "output_type": "stream",
          "text": [
            "Loss for 1000 iterations: 0.13635631944164647\n",
            "Loss for 2000 iterations: 0.13447046803141022\n",
            "Loss for 3000 iterations: 0.13248074834255427\n",
            "Loss for 4000 iterations: 0.13068897878964372\n",
            "Loss for 5000 iterations: 0.1292668512014952\n",
            "Loss for 6000 iterations: 0.12825861496499186\n",
            "Loss for 7000 iterations: 0.1276225003937942\n",
            "Loss for 8000 iterations: 0.12726245175399797\n",
            "Loss for 9000 iterations: 0.12707599640785522\n",
            "Loss for 10000 iterations: 0.12698528348875582\n",
            "[[ 0.24300345]\n",
            " [-0.06758673]\n",
            " [-0.00732637]]\n"
          ],
          "name": "stdout"
        }
      ]
    },
    {
      "cell_type": "code",
      "metadata": {
        "colab": {
          "base_uri": "https://localhost:8080/"
        },
        "id": "zgLDOdzr0eSq",
        "outputId": "e5433d82-66b2-4214-f013-d43304072419"
      },
      "source": [
        "y_pred = np.dot(X_test,opt_theta)\n",
        "loss_y = y_pred - y_test\n",
        "\n",
        "test_size = y_pred.shape[0]\n",
        "total_loss_y = np.dot(np.ones((1,test_size)),np.square(loss_y))[0,0] / test_size\n",
        "\n",
        "# print(total_loss_y)\n",
        "\n",
        "y_pred_thresh = y_pred>=0.5\n",
        "\n",
        "tp = np.sum((y_pred_thresh+y_test)==2 , axis=0)[0]\n",
        "tn = np.sum(y_pred_thresh==y_test , axis=0)[0] - tp\n",
        "fp = np.sum(y_pred_thresh , axis=0)[0]-tp\n",
        "fn = test_size-tp-tn-fp\n",
        "\n",
        "\n",
        "print('tp: {} , tn: {} , fp: {} , fn: {}'.format(tp,tn,fp,fn))\n",
        "\n",
        "acc = (tp+tn)/test_size\n",
        "prec = (tp)/(tp+fp)\n",
        "recl = (tp)/(tp+fn)\n",
        "f1 = 2*prec*recl/(prec+recl)\n",
        "\n",
        "print('Accuracy: {}'.format( acc  ))\n",
        "print('Precision: {}'.format( prec  ))\n",
        "print('Recall: {}'.format( recl  ))\n",
        "print('F1 score: {}'.format( f1  ))\n",
        "\n",
        "\n"
      ],
      "execution_count": null,
      "outputs": [
        {
          "output_type": "stream",
          "text": [
            "tp: 57 , tn: 112 , fp: 13 , fn: 28\n",
            "Accuracy: 0.8047619047619048\n",
            "Precision: 0.8142857142857143\n",
            "Recall: 0.6705882352941176\n",
            "F1 score: 0.7354838709677418\n"
          ],
          "name": "stdout"
        }
      ]
    },
    {
      "cell_type": "code",
      "metadata": {
        "id": "xwYJbW3h0ncU"
      },
      "source": [
        ""
      ],
      "execution_count": null,
      "outputs": []
    }
  ]
}